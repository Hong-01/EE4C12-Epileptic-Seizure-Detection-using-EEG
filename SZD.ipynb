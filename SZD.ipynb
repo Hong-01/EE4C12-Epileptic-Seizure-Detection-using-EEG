{
 "cells": [
  {
   "cell_type": "code",
   "execution_count": 40,
   "metadata": {},
   "outputs": [],
   "source": [
    "import numpy as np\n",
    "import pandas as pd\n",
    "import matplotlib.pyplot as plt\n",
    "import seaborn as sn\n",
    "from sklearn import svm\n",
    "from sklearn.preprocessing import StandardScaler\n",
    "from sklearn.linear_model import LogisticRegression\n",
    "from sklearn.neural_network import MLPClassifier\n",
    "from sklearn.metrics import f1_score, accuracy_score, roc_curve, precision_recall_curve, PrecisionRecallDisplay, roc_auc_score, RocCurveDisplay, confusion_matrix, precision_score, recall_score, ConfusionMatrixDisplay\n",
    "from sklearn.model_selection import train_test_split"
   ]
  },
  {
   "cell_type": "code",
   "execution_count": 41,
   "metadata": {},
   "outputs": [
    {
     "data": {
      "text/html": [
       "<div>\n",
       "<style scoped>\n",
       "    .dataframe tbody tr th:only-of-type {\n",
       "        vertical-align: middle;\n",
       "    }\n",
       "\n",
       "    .dataframe tbody tr th {\n",
       "        vertical-align: top;\n",
       "    }\n",
       "\n",
       "    .dataframe thead th {\n",
       "        text-align: right;\n",
       "    }\n",
       "</style>\n",
       "<table border=\"1\" class=\"dataframe\">\n",
       "  <thead>\n",
       "    <tr style=\"text-align: right;\">\n",
       "      <th></th>\n",
       "      <th>Patient</th>\n",
       "      <th>annotation</th>\n",
       "      <th>min|FP1-F7</th>\n",
       "      <th>min|F7-T3</th>\n",
       "      <th>min|T3-T5</th>\n",
       "      <th>min|T5-O1</th>\n",
       "      <th>min|FP2-F8</th>\n",
       "      <th>min|F8-T4</th>\n",
       "      <th>min|T4-T6</th>\n",
       "      <th>min|T6-O2</th>\n",
       "      <th>...</th>\n",
       "      <th>norm_power_HF|CZ-C4</th>\n",
       "      <th>norm_power_HF|C4-T4</th>\n",
       "      <th>norm_power_HF|FP1-F3</th>\n",
       "      <th>norm_power_HF|F3-C3</th>\n",
       "      <th>norm_power_HF|C3-P3</th>\n",
       "      <th>norm_power_HF|P3-O1</th>\n",
       "      <th>norm_power_HF|FP2-F4</th>\n",
       "      <th>norm_power_HF|F4-C4</th>\n",
       "      <th>norm_power_HF|C4-P4</th>\n",
       "      <th>norm_power_HF|P4-O2</th>\n",
       "    </tr>\n",
       "  </thead>\n",
       "  <tbody>\n",
       "    <tr>\n",
       "      <th>0</th>\n",
       "      <td>258</td>\n",
       "      <td>1</td>\n",
       "      <td>50</td>\n",
       "      <td>61</td>\n",
       "      <td>57</td>\n",
       "      <td>53</td>\n",
       "      <td>39</td>\n",
       "      <td>35</td>\n",
       "      <td>39</td>\n",
       "      <td>35</td>\n",
       "      <td>...</td>\n",
       "      <td>0.016087</td>\n",
       "      <td>0.066920</td>\n",
       "      <td>0.102402</td>\n",
       "      <td>0.481384</td>\n",
       "      <td>0.690787</td>\n",
       "      <td>0.154544</td>\n",
       "      <td>0.062533</td>\n",
       "      <td>0.046460</td>\n",
       "      <td>0.066575</td>\n",
       "      <td>0.086999</td>\n",
       "    </tr>\n",
       "    <tr>\n",
       "      <th>1</th>\n",
       "      <td>258</td>\n",
       "      <td>1</td>\n",
       "      <td>48</td>\n",
       "      <td>62</td>\n",
       "      <td>60</td>\n",
       "      <td>46</td>\n",
       "      <td>38</td>\n",
       "      <td>35</td>\n",
       "      <td>39</td>\n",
       "      <td>33</td>\n",
       "      <td>...</td>\n",
       "      <td>0.024006</td>\n",
       "      <td>0.064857</td>\n",
       "      <td>0.031791</td>\n",
       "      <td>0.225788</td>\n",
       "      <td>0.409987</td>\n",
       "      <td>0.184671</td>\n",
       "      <td>0.071133</td>\n",
       "      <td>0.022369</td>\n",
       "      <td>0.079494</td>\n",
       "      <td>0.047536</td>\n",
       "    </tr>\n",
       "    <tr>\n",
       "      <th>2</th>\n",
       "      <td>258</td>\n",
       "      <td>1</td>\n",
       "      <td>51</td>\n",
       "      <td>60</td>\n",
       "      <td>59</td>\n",
       "      <td>45</td>\n",
       "      <td>38</td>\n",
       "      <td>36</td>\n",
       "      <td>40</td>\n",
       "      <td>36</td>\n",
       "      <td>...</td>\n",
       "      <td>0.037326</td>\n",
       "      <td>0.100177</td>\n",
       "      <td>0.050009</td>\n",
       "      <td>0.622584</td>\n",
       "      <td>0.394504</td>\n",
       "      <td>0.225516</td>\n",
       "      <td>0.050673</td>\n",
       "      <td>0.044906</td>\n",
       "      <td>0.102142</td>\n",
       "      <td>0.068105</td>\n",
       "    </tr>\n",
       "    <tr>\n",
       "      <th>3</th>\n",
       "      <td>258</td>\n",
       "      <td>1</td>\n",
       "      <td>49</td>\n",
       "      <td>58</td>\n",
       "      <td>56</td>\n",
       "      <td>42</td>\n",
       "      <td>36</td>\n",
       "      <td>36</td>\n",
       "      <td>41</td>\n",
       "      <td>37</td>\n",
       "      <td>...</td>\n",
       "      <td>0.027546</td>\n",
       "      <td>0.107883</td>\n",
       "      <td>0.014017</td>\n",
       "      <td>0.359140</td>\n",
       "      <td>0.276964</td>\n",
       "      <td>0.104977</td>\n",
       "      <td>0.018042</td>\n",
       "      <td>0.079467</td>\n",
       "      <td>0.078255</td>\n",
       "      <td>0.089385</td>\n",
       "    </tr>\n",
       "    <tr>\n",
       "      <th>4</th>\n",
       "      <td>258</td>\n",
       "      <td>1</td>\n",
       "      <td>45</td>\n",
       "      <td>57</td>\n",
       "      <td>61</td>\n",
       "      <td>41</td>\n",
       "      <td>35</td>\n",
       "      <td>37</td>\n",
       "      <td>41</td>\n",
       "      <td>37</td>\n",
       "      <td>...</td>\n",
       "      <td>0.036820</td>\n",
       "      <td>0.182520</td>\n",
       "      <td>0.031397</td>\n",
       "      <td>0.328354</td>\n",
       "      <td>0.156929</td>\n",
       "      <td>0.151952</td>\n",
       "      <td>0.047532</td>\n",
       "      <td>0.135071</td>\n",
       "      <td>0.098320</td>\n",
       "      <td>0.137701</td>\n",
       "    </tr>\n",
       "    <tr>\n",
       "      <th>...</th>\n",
       "      <td>...</td>\n",
       "      <td>...</td>\n",
       "      <td>...</td>\n",
       "      <td>...</td>\n",
       "      <td>...</td>\n",
       "      <td>...</td>\n",
       "      <td>...</td>\n",
       "      <td>...</td>\n",
       "      <td>...</td>\n",
       "      <td>...</td>\n",
       "      <td>...</td>\n",
       "      <td>...</td>\n",
       "      <td>...</td>\n",
       "      <td>...</td>\n",
       "      <td>...</td>\n",
       "      <td>...</td>\n",
       "      <td>...</td>\n",
       "      <td>...</td>\n",
       "      <td>...</td>\n",
       "      <td>...</td>\n",
       "      <td>...</td>\n",
       "    </tr>\n",
       "    <tr>\n",
       "      <th>55451</th>\n",
       "      <td>11580</td>\n",
       "      <td>-1</td>\n",
       "      <td>75</td>\n",
       "      <td>73</td>\n",
       "      <td>81</td>\n",
       "      <td>80</td>\n",
       "      <td>66</td>\n",
       "      <td>80</td>\n",
       "      <td>77</td>\n",
       "      <td>75</td>\n",
       "      <td>...</td>\n",
       "      <td>0.244334</td>\n",
       "      <td>0.625396</td>\n",
       "      <td>0.023821</td>\n",
       "      <td>0.058277</td>\n",
       "      <td>0.083594</td>\n",
       "      <td>0.114426</td>\n",
       "      <td>0.119654</td>\n",
       "      <td>0.295364</td>\n",
       "      <td>0.185930</td>\n",
       "      <td>0.199585</td>\n",
       "    </tr>\n",
       "    <tr>\n",
       "      <th>55452</th>\n",
       "      <td>11580</td>\n",
       "      <td>-1</td>\n",
       "      <td>74</td>\n",
       "      <td>74</td>\n",
       "      <td>77</td>\n",
       "      <td>71</td>\n",
       "      <td>79</td>\n",
       "      <td>75</td>\n",
       "      <td>82</td>\n",
       "      <td>77</td>\n",
       "      <td>...</td>\n",
       "      <td>0.588236</td>\n",
       "      <td>0.743060</td>\n",
       "      <td>0.076294</td>\n",
       "      <td>0.332341</td>\n",
       "      <td>0.228458</td>\n",
       "      <td>0.170603</td>\n",
       "      <td>0.351418</td>\n",
       "      <td>0.638666</td>\n",
       "      <td>0.490806</td>\n",
       "      <td>0.307429</td>\n",
       "    </tr>\n",
       "    <tr>\n",
       "      <th>55453</th>\n",
       "      <td>11580</td>\n",
       "      <td>-1</td>\n",
       "      <td>72</td>\n",
       "      <td>76</td>\n",
       "      <td>72</td>\n",
       "      <td>73</td>\n",
       "      <td>74</td>\n",
       "      <td>76</td>\n",
       "      <td>80</td>\n",
       "      <td>76</td>\n",
       "      <td>...</td>\n",
       "      <td>0.296041</td>\n",
       "      <td>0.770194</td>\n",
       "      <td>0.041190</td>\n",
       "      <td>0.090919</td>\n",
       "      <td>0.186074</td>\n",
       "      <td>0.216797</td>\n",
       "      <td>0.231053</td>\n",
       "      <td>0.770637</td>\n",
       "      <td>0.285257</td>\n",
       "      <td>0.413382</td>\n",
       "    </tr>\n",
       "    <tr>\n",
       "      <th>55454</th>\n",
       "      <td>11580</td>\n",
       "      <td>-1</td>\n",
       "      <td>77</td>\n",
       "      <td>82</td>\n",
       "      <td>74</td>\n",
       "      <td>75</td>\n",
       "      <td>82</td>\n",
       "      <td>85</td>\n",
       "      <td>80</td>\n",
       "      <td>76</td>\n",
       "      <td>...</td>\n",
       "      <td>0.440360</td>\n",
       "      <td>0.720855</td>\n",
       "      <td>0.026959</td>\n",
       "      <td>0.026340</td>\n",
       "      <td>0.077674</td>\n",
       "      <td>0.269610</td>\n",
       "      <td>0.186769</td>\n",
       "      <td>0.790173</td>\n",
       "      <td>0.473615</td>\n",
       "      <td>0.415771</td>\n",
       "    </tr>\n",
       "    <tr>\n",
       "      <th>55455</th>\n",
       "      <td>11580</td>\n",
       "      <td>-1</td>\n",
       "      <td>71</td>\n",
       "      <td>79</td>\n",
       "      <td>74</td>\n",
       "      <td>78</td>\n",
       "      <td>80</td>\n",
       "      <td>85</td>\n",
       "      <td>81</td>\n",
       "      <td>75</td>\n",
       "      <td>...</td>\n",
       "      <td>1.019325</td>\n",
       "      <td>0.735140</td>\n",
       "      <td>0.030715</td>\n",
       "      <td>0.077191</td>\n",
       "      <td>0.095298</td>\n",
       "      <td>0.317765</td>\n",
       "      <td>0.271859</td>\n",
       "      <td>0.675646</td>\n",
       "      <td>0.506836</td>\n",
       "      <td>0.561740</td>\n",
       "    </tr>\n",
       "  </tbody>\n",
       "</table>\n",
       "<p>55456 rows × 362 columns</p>\n",
       "</div>"
      ],
      "text/plain": [
       "       Patient  annotation  min|FP1-F7  min|F7-T3  min|T3-T5  min|T5-O1  \\\n",
       "0          258           1          50         61         57         53   \n",
       "1          258           1          48         62         60         46   \n",
       "2          258           1          51         60         59         45   \n",
       "3          258           1          49         58         56         42   \n",
       "4          258           1          45         57         61         41   \n",
       "...        ...         ...         ...        ...        ...        ...   \n",
       "55451    11580          -1          75         73         81         80   \n",
       "55452    11580          -1          74         74         77         71   \n",
       "55453    11580          -1          72         76         72         73   \n",
       "55454    11580          -1          77         82         74         75   \n",
       "55455    11580          -1          71         79         74         78   \n",
       "\n",
       "       min|FP2-F8  min|F8-T4  min|T4-T6  min|T6-O2  ...  norm_power_HF|CZ-C4  \\\n",
       "0              39         35         39         35  ...             0.016087   \n",
       "1              38         35         39         33  ...             0.024006   \n",
       "2              38         36         40         36  ...             0.037326   \n",
       "3              36         36         41         37  ...             0.027546   \n",
       "4              35         37         41         37  ...             0.036820   \n",
       "...           ...        ...        ...        ...  ...                  ...   \n",
       "55451          66         80         77         75  ...             0.244334   \n",
       "55452          79         75         82         77  ...             0.588236   \n",
       "55453          74         76         80         76  ...             0.296041   \n",
       "55454          82         85         80         76  ...             0.440360   \n",
       "55455          80         85         81         75  ...             1.019325   \n",
       "\n",
       "       norm_power_HF|C4-T4  norm_power_HF|FP1-F3  norm_power_HF|F3-C3  \\\n",
       "0                 0.066920              0.102402             0.481384   \n",
       "1                 0.064857              0.031791             0.225788   \n",
       "2                 0.100177              0.050009             0.622584   \n",
       "3                 0.107883              0.014017             0.359140   \n",
       "4                 0.182520              0.031397             0.328354   \n",
       "...                    ...                   ...                  ...   \n",
       "55451             0.625396              0.023821             0.058277   \n",
       "55452             0.743060              0.076294             0.332341   \n",
       "55453             0.770194              0.041190             0.090919   \n",
       "55454             0.720855              0.026959             0.026340   \n",
       "55455             0.735140              0.030715             0.077191   \n",
       "\n",
       "       norm_power_HF|C3-P3  norm_power_HF|P3-O1  norm_power_HF|FP2-F4  \\\n",
       "0                 0.690787             0.154544              0.062533   \n",
       "1                 0.409987             0.184671              0.071133   \n",
       "2                 0.394504             0.225516              0.050673   \n",
       "3                 0.276964             0.104977              0.018042   \n",
       "4                 0.156929             0.151952              0.047532   \n",
       "...                    ...                  ...                   ...   \n",
       "55451             0.083594             0.114426              0.119654   \n",
       "55452             0.228458             0.170603              0.351418   \n",
       "55453             0.186074             0.216797              0.231053   \n",
       "55454             0.077674             0.269610              0.186769   \n",
       "55455             0.095298             0.317765              0.271859   \n",
       "\n",
       "       norm_power_HF|F4-C4  norm_power_HF|C4-P4  norm_power_HF|P4-O2  \n",
       "0                 0.046460             0.066575             0.086999  \n",
       "1                 0.022369             0.079494             0.047536  \n",
       "2                 0.044906             0.102142             0.068105  \n",
       "3                 0.079467             0.078255             0.089385  \n",
       "4                 0.135071             0.098320             0.137701  \n",
       "...                    ...                  ...                  ...  \n",
       "55451             0.295364             0.185930             0.199585  \n",
       "55452             0.638666             0.490806             0.307429  \n",
       "55453             0.770637             0.285257             0.413382  \n",
       "55454             0.790173             0.473615             0.415771  \n",
       "55455             0.675646             0.506836             0.561740  \n",
       "\n",
       "[55456 rows x 362 columns]"
      ]
     },
     "execution_count": 41,
     "metadata": {},
     "output_type": "execute_result"
    }
   ],
   "source": [
    "data = pd.read_csv('D:\\\\User\\Zhixuan Ge\\Onedrive TUDelft\\OneDrive - Delft University of Technology\\Courses\\ML for EE\\SZD\\S&S_SZD\\Project_Data_EE4C12_S&S_SZD.csv')\n",
    "data"
   ]
  },
  {
   "cell_type": "code",
   "execution_count": 42,
   "metadata": {},
   "outputs": [
    {
     "data": {
      "text/plain": [
       "(362,)"
      ]
     },
     "execution_count": 42,
     "metadata": {},
     "output_type": "execute_result"
    }
   ],
   "source": [
    "data.columns.shape"
   ]
  },
  {
   "cell_type": "code",
   "execution_count": 43,
   "metadata": {},
   "outputs": [],
   "source": [
    "y = np.int32(data['annotation'].values)\n",
    "X = data.iloc[:, 2:].values"
   ]
  },
  {
   "cell_type": "code",
   "execution_count": 44,
   "metadata": {},
   "outputs": [],
   "source": [
    "scaler = StandardScaler().fit(X)\n",
    "X_scaled = scaler.transform(X)"
   ]
  },
  {
   "cell_type": "code",
   "execution_count": 45,
   "metadata": {},
   "outputs": [],
   "source": [
    "Shuffle_state = 42\n",
    "test_size = 0.25\n",
    "X_train, X_test, y_train, y_test = train_test_split(X_scaled, y, test_size=test_size, random_state=Shuffle_state)"
   ]
  },
  {
   "cell_type": "code",
   "execution_count": 53,
   "metadata": {},
   "outputs": [
    {
     "name": "stdout",
     "output_type": "stream",
     "text": [
      "{-1: 0.05863727895765303, 0: 0.8704602962506767, 1: 0.07090242479167017}\n"
     ]
    }
   ],
   "source": [
    "n_p = data['annotation'].value_counts()[1]\n",
    "n_n = data['annotation'].value_counts()[-1]\n",
    "n_z = data['annotation'].value_counts()[0]\n",
    "\n",
    "weights = np.array([n_n, n_z, n_p])\n",
    "weights = weights / weights.sum()\n",
    "weights = 1 / weights\n",
    "weights = weights / weights.sum()\n",
    "\n",
    "weights = {-1:weights[0], 0:weights[1], 1:weights[2]}\n",
    "\n",
    "print(weights)"
   ]
  },
  {
   "cell_type": "code",
   "execution_count": 54,
   "metadata": {},
   "outputs": [],
   "source": [
    "#Logistic regression\n",
    "clf_lr = LogisticRegression(max_iter=1000, class_weight=weights).fit(X_train, y_train)\n",
    "y_pred = clf_lr.predict(X_test)"
   ]
  },
  {
   "cell_type": "code",
   "execution_count": 55,
   "metadata": {},
   "outputs": [
    {
     "name": "stdout",
     "output_type": "stream",
     "text": [
      "Accuracy: 0.7381708020773226\n",
      "F1 score: 0.7381708020773226\n",
      "Recall score: 0.7381708020773226\n",
      "Precision score: 0.7381708020773226\n"
     ]
    }
   ],
   "source": [
    "#Performance metrics\n",
    "Accuracy_LR = accuracy_score(y_test, y_pred)\n",
    "F1_LR = accuracy_score(y_test, y_pred)\n",
    "Precision_LR = accuracy_score(y_test, y_pred)\n",
    "Recall_LR = accuracy_score(y_test, y_pred)\n",
    "print(\"Accuracy: \" + str(Accuracy_LR))\n",
    "print(\"F1 score: \" + str(F1_LR))\n",
    "print(\"Recall score: \" + str(Recall_LR))\n",
    "print(\"Precision score: \" + str(Precision_LR))"
   ]
  },
  {
   "cell_type": "code",
   "execution_count": 56,
   "metadata": {},
   "outputs": [
    {
     "data": {
      "text/plain": [
       "\"#ROC curve\\n\\ny_score_train = clf_lr.decision_function(X_train)\\ny_score_test = clf_lr.decision_function(X_test)\\nfpr_train, tpr_train, _ = roc_curve(y_train, y_score_train, pos_label=clf_lr.classes_[1])\\nfpr_test, tpr_test, _ = roc_curve(y_test, y_score_test, pos_label=clf_lr.classes_[1])\\n\\nax = plt.gca()\\ntrain_disp = RocCurveDisplay(fpr=fpr_train, tpr=tpr_train)\\ntrain_disp.plot(ax, name='Train')\\n\\ntest_disp = RocCurveDisplay(fpr=fpr_test, tpr=tpr_test)\\ntest_disp.plot(ax, name='Test')\\n\\nplt.legend()\\nplt.show()\""
      ]
     },
     "execution_count": 56,
     "metadata": {},
     "output_type": "execute_result"
    }
   ],
   "source": [
    "# not possible for multi-classification\n",
    "'''#ROC curve\n",
    "\n",
    "y_score_train = clf_lr.decision_function(X_train)\n",
    "y_score_test = clf_lr.decision_function(X_test)\n",
    "fpr_train, tpr_train, _ = roc_curve(y_train, y_score_train, pos_label=clf_lr.classes_[1])\n",
    "fpr_test, tpr_test, _ = roc_curve(y_test, y_score_test, pos_label=clf_lr.classes_[1])\n",
    "\n",
    "ax = plt.gca()\n",
    "train_disp = RocCurveDisplay(fpr=fpr_train, tpr=tpr_train)\n",
    "train_disp.plot(ax, name='Train')\n",
    "\n",
    "test_disp = RocCurveDisplay(fpr=fpr_test, tpr=tpr_test)\n",
    "test_disp.plot(ax, name='Test')\n",
    "\n",
    "plt.legend()\n",
    "plt.show()'''"
   ]
  },
  {
   "cell_type": "code",
   "execution_count": 57,
   "metadata": {},
   "outputs": [
    {
     "data": {
      "image/png": "[encoded data removed]",
      "text/plain": [
       "<Figure size 640x480 with 2 Axes>"
      ]
     },
     "metadata": {},
     "output_type": "display_data"
    }
   ],
   "source": [
    "#Confusion Matrix\n",
    "cm_2c = confusion_matrix(y_test, y_pred)\n",
    "cm_display_2c = ConfusionMatrixDisplay(cm_2c).plot()\n",
    "plt.show()"
   ]
  },
  {
   "cell_type": "code",
   "execution_count": 12,
   "metadata": {},
   "outputs": [
    {
     "name": "stderr",
     "output_type": "stream",
     "text": [
      "d:\\Languages\\Anaconda\\Lib\\site-packages\\sklearn\\svm\\_base.py:297: ConvergenceWarning: Solver terminated early (max_iter=2000).  Consider pre-processing your data with StandardScaler or MinMaxScaler.\n",
      "  warnings.warn(\n"
     ]
    }
   ],
   "source": [
    "clf_svm = svm.SVC(max_iter=2000,random_state=Shuffle_state).fit(X_train, y_train)\n",
    "y_pred = clf_svm.predict(X_test)"
   ]
  },
  {
   "cell_type": "code",
   "execution_count": 13,
   "metadata": {},
   "outputs": [
    {
     "name": "stdout",
     "output_type": "stream",
     "text": [
      "Accuracy: 0.542267743796884\n",
      "F1 score: 0.542267743796884\n",
      "Recall score: 0.542267743796884\n",
      "Precision score: 0.542267743796884\n"
     ]
    }
   ],
   "source": [
    "#Performance metrics\n",
    "Accuracy_LR = accuracy_score(y_test, y_pred)\n",
    "F1_LR = accuracy_score(y_test, y_pred)\n",
    "Precision_LR = accuracy_score(y_test, y_pred)\n",
    "Recall_LR = accuracy_score(y_test, y_pred)\n",
    "print(\"Accuracy: \" + str(Accuracy_LR))\n",
    "print(\"F1 score: \" + str(F1_LR))\n",
    "print(\"Recall score: \" + str(Recall_LR))\n",
    "print(\"Precision score: \" + str(Precision_LR))"
   ]
  },
  {
   "cell_type": "code",
   "execution_count": 14,
   "metadata": {},
   "outputs": [
    {
     "data": {
      "image/png": "[encoded data removed]",
      "text/plain": [
       "<Figure size 640x480 with 2 Axes>"
      ]
     },
     "metadata": {},
     "output_type": "display_data"
    }
   ],
   "source": [
    "#Confusion Matrix\n",
    "cm_2c = confusion_matrix(y_test, y_pred)\n",
    "cm_display_2c = ConfusionMatrixDisplay(cm_2c).plot()\n",
    "plt.show()"
   ]
  },
  {
   "cell_type": "code",
   "execution_count": 26,
   "metadata": {},
   "outputs": [],
   "source": [
    "n_p = data['annotation'].value_counts()[1]\n",
    "n_n = data['annotation'].value_counts()[-1]\n",
    "n_z = data['annotation'].value_counts()[0]\n",
    "\n",
    "w_p = 1 - n_p / (n_p + n_n + n_z)\n",
    "w_n = 1 - n_n / (n_p + n_n + n_z)\n",
    "w_z = 1 - n_z / (n_p + n_n + n_z)"
   ]
  },
  {
   "cell_type": "code",
   "execution_count": 61,
   "metadata": {},
   "outputs": [
    {
     "name": "stdout",
     "output_type": "stream",
     "text": [
      "Iteration 1, loss = 0.38874375\n",
      "Iteration 2, loss = 0.30190135\n",
      "Iteration 3, loss = 0.27306704\n",
      "Iteration 4, loss = 0.25496598\n",
      "Iteration 5, loss = 0.23318956\n",
      "Iteration 6, loss = 0.21976018\n",
      "Iteration 7, loss = 0.19926639\n",
      "Iteration 8, loss = 0.18484919\n",
      "Iteration 9, loss = 0.17458885\n",
      "Iteration 10, loss = 0.15542220\n",
      "Iteration 11, loss = 0.14246921\n",
      "Iteration 12, loss = 0.12895070\n",
      "Iteration 13, loss = 0.11554396\n",
      "Iteration 14, loss = 0.09955921\n",
      "Iteration 15, loss = 0.09392945\n",
      "Iteration 16, loss = 0.08064001\n",
      "Iteration 17, loss = 0.07589678\n",
      "Iteration 18, loss = 0.06664809\n",
      "Iteration 19, loss = 0.06115527\n",
      "Iteration 20, loss = 0.06260979\n",
      "Iteration 21, loss = 0.05256634\n",
      "Iteration 22, loss = 0.04732321\n",
      "Iteration 23, loss = 0.04474100\n",
      "Iteration 24, loss = 0.03967755\n",
      "Iteration 25, loss = 0.03950896\n",
      "Iteration 26, loss = 0.04084109\n",
      "Iteration 27, loss = 0.03412388\n",
      "Iteration 28, loss = 0.03310167\n",
      "Iteration 29, loss = 0.03174504\n",
      "Iteration 30, loss = 0.03376806\n",
      "Iteration 31, loss = 0.03347517\n",
      "Iteration 32, loss = 0.02963907\n",
      "Iteration 33, loss = 0.02734191\n",
      "Iteration 34, loss = 0.02528599\n",
      "Iteration 35, loss = 0.02635368\n",
      "Iteration 36, loss = 0.02673070\n",
      "Iteration 37, loss = 0.02394639\n",
      "Iteration 38, loss = 0.02840277\n",
      "Iteration 39, loss = 0.02087959\n",
      "Iteration 40, loss = 0.02103945\n",
      "Iteration 41, loss = 0.02492158\n",
      "Iteration 42, loss = 0.02311126\n",
      "Iteration 43, loss = 0.01970479\n",
      "Iteration 44, loss = 0.02234608\n",
      "Iteration 45, loss = 0.02189936\n",
      "Iteration 46, loss = 0.01716863\n",
      "Iteration 47, loss = 0.02311231\n",
      "Iteration 48, loss = 0.02524622\n",
      "Iteration 49, loss = 0.01863491\n",
      "Iteration 50, loss = 0.01943247\n",
      "Iteration 51, loss = 0.01869326\n",
      "Iteration 52, loss = 0.01904248\n",
      "Iteration 53, loss = 0.01792102\n",
      "Iteration 54, loss = 0.01930953\n",
      "Iteration 55, loss = 0.01858110\n",
      "Iteration 56, loss = 0.01687019\n",
      "Iteration 57, loss = 0.02123969\n",
      "Iteration 58, loss = 0.01668539\n",
      "Iteration 59, loss = 0.01522862\n",
      "Iteration 60, loss = 0.01536014\n",
      "Iteration 61, loss = 0.02088255\n",
      "Iteration 62, loss = 0.01758979\n",
      "Iteration 63, loss = 0.01874510\n",
      "Iteration 64, loss = 0.01596750\n",
      "Iteration 65, loss = 0.01652933\n",
      "Iteration 66, loss = 0.01390339\n",
      "Iteration 67, loss = 0.01408443\n",
      "Iteration 68, loss = 0.01295830\n",
      "Iteration 69, loss = 0.01599893\n",
      "Iteration 70, loss = 0.01663171\n",
      "Iteration 71, loss = 0.01607548\n",
      "Iteration 72, loss = 0.01481663\n",
      "Iteration 73, loss = 0.01881248\n",
      "Iteration 74, loss = 0.01185423\n",
      "Iteration 75, loss = 0.01052795\n",
      "Iteration 76, loss = 0.01609262\n",
      "Iteration 77, loss = 0.01135552\n",
      "Iteration 78, loss = 0.01645693\n",
      "Iteration 79, loss = 0.01381136\n",
      "Iteration 80, loss = 0.01463891\n",
      "Iteration 81, loss = 0.01335398\n",
      "Iteration 82, loss = 0.01426325\n",
      "Iteration 83, loss = 0.01852670\n",
      "Iteration 84, loss = 0.01339547\n",
      "Iteration 85, loss = 0.01756701\n",
      "Iteration 86, loss = 0.01507350\n",
      "Training loss did not improve more than tol=0.000100 for 10 consecutive epochs. Stopping.\n"
     ]
    }
   ],
   "source": [
    "hl_size = (256, 256, 256, 128, 64)\n",
    "clf_mlp = MLPClassifier(hidden_layer_sizes=hl_size, activation='relu', solver='adam',\n",
    "                        alpha=0.0001, max_iter=1000, shuffle=True, random_state=Shuffle_state, verbose=True)\n",
    "clf_mlp.fit(X_train, y_train)\n",
    "y_pred = clf_mlp.predict(X_test)"
   ]
  },
  {
   "cell_type": "code",
   "execution_count": 62,
   "metadata": {},
   "outputs": [
    {
     "name": "stdout",
     "output_type": "stream",
     "text": [
      "Accuracy: 0.8906520484708598\n",
      "F1 score: 0.8906520484708598\n",
      "Recall score: 0.8906520484708598\n",
      "Precision score: 0.8906520484708598\n"
     ]
    }
   ],
   "source": [
    "#Performance metrics\n",
    "Accuracy_LR = accuracy_score(y_test, y_pred)\n",
    "F1_LR = accuracy_score(y_test, y_pred)\n",
    "Precision_LR = accuracy_score(y_test, y_pred)\n",
    "Recall_LR = accuracy_score(y_test, y_pred)\n",
    "print(\"Accuracy: \" + str(Accuracy_LR))\n",
    "print(\"F1 score: \" + str(F1_LR))\n",
    "print(\"Recall score: \" + str(Recall_LR))\n",
    "print(\"Precision score: \" + str(Precision_LR))"
   ]
  },
  {
   "cell_type": "code",
   "execution_count": 63,
   "metadata": {},
   "outputs": [
    {
     "data": {
      "image/png": "[encoded data removed]",
      "text/plain": [
       "<Figure size 640x480 with 2 Axes>"
      ]
     },
     "metadata": {},
     "output_type": "display_data"
    }
   ],
   "source": [
    "#Confusion Matrix\n",
    "cm_2c = confusion_matrix(y_test, y_pred)\n",
    "cm_display_2c = ConfusionMatrixDisplay(cm_2c).plot()\n",
    "plt.show()"
   ]
  },
  {
   "cell_type": "code",
   "execution_count": null,
   "metadata": {},
   "outputs": [],
   "source": []
  }
 ],
 "metadata": {
  "kernelspec": {
   "display_name": "base",
   "language": "python",
   "name": "python3"
  },
  "language_info": {
   "codemirror_mode": {
    "name": "ipython",
    "version": 3
   },
   "file_extension": ".py",
   "mimetype": "text/x-python",
   "name": "python",
   "nbconvert_exporter": "python",
   "pygments_lexer": "ipython3",
   "version": "3.11.4"
  },
  "orig_nbformat": 4
 },
 "nbformat": 4,
 "nbformat_minor": 2
}
